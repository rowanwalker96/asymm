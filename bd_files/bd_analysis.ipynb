{
 "cells": [
  {
   "cell_type": "markdown",
   "id": "5af6687e",
   "metadata": {},
   "source": [
    "### Import experimental data"
   ]
  },
  {
   "cell_type": "code",
   "execution_count": null,
   "id": "e7394398",
   "metadata": {},
   "outputs": [],
   "source": [
    "import numpy as np\n",
    "import matplotlib.pyplot as plt\n",
    "\n",
    "expt = np.genfromtxt('AC04RawData.csv', delimiter=',', names=['sx', 'sy']) #experimental data"
   ]
  },
  {
   "cell_type": "markdown",
   "id": "371a2e7f",
   "metadata": {},
   "source": [
    "### g(r) comparison"
   ]
  },
  {
   "cell_type": "code",
   "execution_count": null,
   "id": "0b9dee12",
   "metadata": {},
   "outputs": [],
   "source": [
    "with open('example.rdf') as f: #point to simulation folder\n",
    "    n= 500 # number of points\n",
    "    lines = (line for line in f if not line.startswith('#'))\n",
    "    lines = f.readlines()\n",
    "    lines = lines[3::]; del lines[0::n+1]; #skip the header\n",
    "    data = np.loadtxt(lines)\n",
    "\n",
    "total = np.zeros((n,3))\n",
    "cut1 =int(len(data)/n)-1; cut2 = int(len(data)/n);\n",
    "for i in np.arange(cut1,cut2):\n",
    "    total += np.array_split(data, int(len(data)/n))[i]\n",
    "\n",
    "averaged=total/(cut2-cut1)"
   ]
  },
  {
   "cell_type": "code",
   "execution_count": null,
   "id": "38e5c10d",
   "metadata": {},
   "outputs": [],
   "source": [
    "fig,ax = plt.subplots(1,1,figsize=(4,4))\n",
    "\n",
    "plt.style.use('seaborn-notebook')\n",
    "\n",
    "ax.plot(expt['sx'],expt['sy'],alpha=0.7,label='expt')\n",
    "ax.plot(averaged[:,1],averaged[:,2],label='bd')\n",
    "ax.set_xlim(3, 18)\n",
    "\n",
    "x = np.arange(3.5, 6.5, 0.001)"
   ]
  },
  {
   "cell_type": "markdown",
   "id": "5a9a6564",
   "metadata": {},
   "source": [
    "### Visualisation & Cluster Analysis"
   ]
  },
  {
   "cell_type": "code",
   "execution_count": null,
   "id": "404b6929",
   "metadata": {},
   "outputs": [],
   "source": [
    "import MDAnalysis\n",
    "print(\"Using MDAnalysis version\", MDAnalysis.__version__)\n",
    "d = MDAnalysis.coordinates.LAMMPS.DumpReader('brownian.lammpstrj')\n",
    "pos = d._read_frame(-1).positions[:,:2]"
   ]
  },
  {
   "cell_type": "code",
   "execution_count": null,
   "id": "01eaf5be",
   "metadata": {},
   "outputs": [],
   "source": [
    "with open('example_data_file.txt') as f: #point to simulation folder\n",
    "    lines = f.readlines()\n",
    "    lines = lines[12::]; #skip the header\n",
    "    data = np.loadtxt(lines)\n",
    "    diams = data[:,5]"
   ]
  },
  {
   "cell_type": "code",
   "execution_count": null,
   "id": "8132af6e",
   "metadata": {},
   "outputs": [],
   "source": [
    "# params\n",
    "figdim = 7.5\n",
    "box=200\n",
    "figdim/box/2\n",
    "ss = np.pi*(((diams*(figdim/box/2))*72)**2)*(4/np.pi)  # s params\n",
    "np.mean(ss)"
   ]
  },
  {
   "cell_type": "code",
   "execution_count": null,
   "id": "51099966",
   "metadata": {},
   "outputs": [],
   "source": [
    "fig,ax=plt.subplots(figsize=(7.5,7.5),frameon=False,dpi=72)\n",
    "ax.set_xlim(0, box)\n",
    "ax.set_ylim(0, box)\n",
    "ax.scatter(pos[:,0],pos[:,1],s=ss,facecolors='#708090',edgecolors='none',linewidth=1)\n",
    "ax.axis('off')\n",
    "fig.tight_layout()\n",
    "plt.subplots_adjust(left=0, right=1, top=1, bottom=0)\n",
    "plt.tight_layout(pad=0)\n",
    "#plt.savefig('clustertest.png', format='png')"
   ]
  },
  {
   "cell_type": "markdown",
   "id": "cc1fa08f",
   "metadata": {},
   "source": [
    "### Nearest neighbours"
   ]
  },
  {
   "cell_type": "code",
   "execution_count": null,
   "id": "8614f5ce",
   "metadata": {},
   "outputs": [],
   "source": [
    "salt=0.015\n",
    "k1=(1/ (0.304/(np.sqrt(salt/1000))))*1000 #k1 in inverse microns, take from input file\n",
    "1/k1 "
   ]
  },
  {
   "cell_type": "code",
   "execution_count": null,
   "id": "6b4f7102",
   "metadata": {},
   "outputs": [],
   "source": [
    "radii=diams/2\n",
    "box=200 #box size in microns\n",
    "nearest_neighbours = np.zeros((len(pos))) #initialise array to save to\n",
    "for i in range(len(pos)): #pos is array of x,y coords shape [len(pos),2]\n",
    "    \n",
    "    pos2=np.abs(pos-pos[i])\n",
    "    for j in range(len(pos2)):\n",
    "        for k in range(2):\n",
    "            if pos2[j,k]>box/2:\n",
    "                pos2[j,k]=box-pos2[j,k] #account for pbc\n",
    "    \n",
    "    dists=np.linalg.norm(pos2,axis=1)\n",
    "    idists = dists-radii-radii[i]\n",
    "    nearest_neighbours[i]=len(idists[idists<(1/k1*10)])-1 #-1 as don't want to count self"
   ]
  },
  {
   "cell_type": "code",
   "execution_count": null,
   "id": "b4cb488a",
   "metadata": {},
   "outputs": [],
   "source": [
    "np.mean(nearest_neighbours)"
   ]
  },
  {
   "cell_type": "code",
   "execution_count": null,
   "id": "16e9e695",
   "metadata": {},
   "outputs": [],
   "source": [
    "%config InlineBackend.figure_format = 'retina'\n",
    "fig,ax=plt.subplots(figsize=(7.5,7.5),frameon=False,dpi=72)\n",
    "ax = fig.add_axes([0, 0, 1, 1]) #this seems to be required see below\n",
    "ax.set_xlim(0, 200)\n",
    "ax.set_ylim(0, 200)\n",
    "ax.scatter(pos[:,0],pos[:,1],s=ss,facecolors='none', edgecolors='b',linewidth=1, c=nearest_neighbours/6)\n",
    "fig.tight_layout()\n",
    "plt.subplots_adjust(left=0, right=1, top=1, bottom=0, wspace=0, hspace=0)\n",
    "plt.tight_layout(pad=0)\n",
    "ax.get_xaxis().set_visible(False)\n",
    "ax.get_yaxis().set_visible(False)"
   ]
  },
  {
   "cell_type": "code",
   "execution_count": null,
   "id": "ba60facb",
   "metadata": {},
   "outputs": [],
   "source": []
  }
 ],
 "metadata": {
  "kernelspec": {
   "display_name": "Python 3 (ipykernel)",
   "language": "python",
   "name": "python3"
  },
  "language_info": {
   "codemirror_mode": {
    "name": "ipython",
    "version": 3
   },
   "file_extension": ".py",
   "mimetype": "text/x-python",
   "name": "python",
   "nbconvert_exporter": "python",
   "pygments_lexer": "ipython3",
   "version": "3.9.13"
  }
 },
 "nbformat": 4,
 "nbformat_minor": 5
}

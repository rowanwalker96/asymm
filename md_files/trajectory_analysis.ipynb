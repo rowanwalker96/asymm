{
 "cells": [
  {
   "cell_type": "code",
   "execution_count": null,
   "id": "1af2245b",
   "metadata": {},
   "outputs": [],
   "source": [
    "import MDAnalysis\n",
    "import numpy as np\n",
    "import nglview as nv\n",
    "import matplotlib.pyplot as plt\n",
    "print(\"Using MDAnalysis version\", MDAnalysis.__version__)\n",
    "print(\"Using NGLView version\", nv.__version__)"
   ]
  },
  {
   "cell_type": "code",
   "execution_count": null,
   "id": "b328fa9a",
   "metadata": {},
   "outputs": [],
   "source": [
    "u = MDAnalysis.Universe('md.tpr','md.xtc')"
   ]
  },
  {
   "cell_type": "code",
   "execution_count": null,
   "id": "d65fb5b6",
   "metadata": {},
   "outputs": [],
   "source": [
    "v = nv.show_mdanalysis(u)\n",
    "system = v.component_0\n",
    "system.clear()\n",
    "v.camera='orthographic'\n",
    "v.center()\n",
    "v.add_unitcell()\n",
    "\n",
    "#SOL = u.select_atoms('resname 2PL or resname PRO2')\n",
    "#WALL = u.select_atoms('resname WALL')\n",
    "system.add_licorice(selection = u.atoms.indices)"
   ]
  },
  {
   "cell_type": "code",
   "execution_count": null,
   "id": "7bd9636f",
   "metadata": {},
   "outputs": [],
   "source": [
    "v.display()"
   ]
  },
  {
   "cell_type": "code",
   "execution_count": null,
   "id": "296ce843",
   "metadata": {},
   "outputs": [],
   "source": [
    "valdip = []; valdip2 = []; cgeomzp = []; cgeomzp2=[]; cchg = [];\n",
    "frames = len(u.trajectory)\n",
    "equil = 0 # allow 1000 frames = 100 ps for equilibration say\n",
    "\n",
    "SOL = u.select_atoms('resname PRO2')\n",
    "nm = SOL.residues[0].atoms.names\n",
    "charges = SOL.residues[0].atoms.charges\n",
    "N = len(charges) #number of atoms in the solvent molecule\n",
    "\n",
    "for step in u.trajectory[equil:frames-1]:\n",
    "    \n",
    "    lines = SOL.atoms.positions;\n",
    "    \n",
    "    data = {}\n",
    "    datum = 0\n",
    "\n",
    "    for variable in nm:\n",
    "        data[variable] = lines[datum::N] #get the atomic positions\n",
    "        datum+=1\n",
    "    \n",
    "    locals().update(data)\n",
    "    \n",
    "    # dipole calculation\n",
    "    CGEOM = sum(data.values())/N\n",
    "    \n",
    "    CGEOMdipVector=np.zeros((int(len(SOL)/N),3)) \n",
    "    for i in range(N):\n",
    "        CGEOMdipVector+=((data[nm[i]]-CGEOM)/10)*charges[i]\n",
    "    \n",
    "    j = 0\n",
    "    while j < len(lines) / N:\n",
    "        valdip.append(CGEOMdipVector[j][2])\n",
    "        cgeomzp.append(CGEOM[j][2])\n",
    "        j += 1"
   ]
  },
  {
   "cell_type": "code",
   "execution_count": null,
   "id": "4155de57",
   "metadata": {},
   "outputs": [],
   "source": [
    "from scipy.stats import binned_statistic # This function allows the computation of the sum, mean, median, or other statistic of the values (or set of values) within each bin.\n",
    "bin_means, bin_edges, binnumber = binned_statistic(cgeomzp, valdip, statistic='mean', bins=np.linspace(5,110,5000))"
   ]
  },
  {
   "cell_type": "code",
   "execution_count": null,
   "id": "ca0e31b6",
   "metadata": {},
   "outputs": [],
   "source": [
    "bin_width = (bin_edges[1] - bin_edges[0]); bin_centers = bin_edges[1:] - bin_width/2; lxn=bin_centers/10\n",
    "dipoles= bin_means\n",
    "fig,ax = plt.subplots()\n",
    "ax.plot(lxn,dipoles,lw=0.5)  "
   ]
  },
  {
   "cell_type": "code",
   "execution_count": null,
   "id": "8b2536ce",
   "metadata": {},
   "outputs": [],
   "source": [
    "rhocounts, rhobins, rhobars = plt.hist(cgeomzp, bins=bin_edges,histtype='step')"
   ]
  },
  {
   "cell_type": "code",
   "execution_count": null,
   "id": "3547e241",
   "metadata": {},
   "outputs": [],
   "source": [
    "bin_means3, bin_edges3, binnumber3 = binned_statistic(cgeomzp, valdip, statistic='count', bins=bin_edges) # changed from bins=seg\n",
    "binvolume = bin_width/10 * u.trajectory[0].dimensions[0] * u.trajectory[0].dimensions[1] / 100\n",
    "Pz = ((dipoles/binvolume)*(bin_means3/frames))"
   ]
  },
  {
   "cell_type": "code",
   "execution_count": null,
   "id": "526ecb88",
   "metadata": {},
   "outputs": [],
   "source": [
    "plt.plot(lxn,Pz,lw=0.8)\n",
    "plt.show()"
   ]
  },
  {
   "cell_type": "code",
   "execution_count": null,
   "id": "a7b6f023",
   "metadata": {},
   "outputs": [],
   "source": [
    "pmidav=np.mean((Pz[2300:2700]))\n",
    "potential=Pz-pmidav"
   ]
  },
  {
   "cell_type": "code",
   "execution_count": null,
   "id": "3639ccfb",
   "metadata": {},
   "outputs": [],
   "source": [
    "eo = 8.8541878128e-12 #F/m = C/Vm\n",
    "eo = 8.8541878128e-21 #C/Vnm\n",
    "1/1.602176634e-19 # C in terms of elementary charges\n",
    "eoinv = 1/(eo*1/1.602176634e-19)\n",
    "\n",
    "import scipy.integrate as sci\n",
    "potentialright=potential[len(potential)//2:]\n",
    "lxnrev=lxn[::-1]; potentialrev=potential[::-1]\n",
    "POTRIGHT=(sci.cumtrapz(potentialright,lxn[len(potential)//2:],initial=0)*eoinv) #18.1 is permittivity of free space *nm /C\n",
    "POTLEFT=(sci.cumtrapz(potentialrev[len(potential)//2:],lxnrev[len(potential)//2:],initial=0)*eoinv)\n",
    "plt.plot(lxnrev[len(potential)//2:],POTLEFT,lw=0.8)\n",
    "plt.plot(lxn[len(potential)//2:],POTRIGHT,lw=0.8)\n",
    "\n",
    "plt.axhline(0, color='black',linestyle='--')\n",
    "plt.axhline(0, color='black',linestyle='--')\n",
    "plt.show()"
   ]
  },
  {
   "cell_type": "code",
   "execution_count": null,
   "id": "cdc513e6",
   "metadata": {},
   "outputs": [],
   "source": [
    "min(POTLEFT[2150::])"
   ]
  },
  {
   "cell_type": "code",
   "execution_count": null,
   "id": "74048f42",
   "metadata": {},
   "outputs": [],
   "source": []
  }
 ],
 "metadata": {
  "kernelspec": {
   "display_name": "Python 3 (ipykernel)",
   "language": "python",
   "name": "python3"
  },
  "language_info": {
   "codemirror_mode": {
    "name": "ipython",
    "version": 3
   },
   "file_extension": ".py",
   "mimetype": "text/x-python",
   "name": "python",
   "nbconvert_exporter": "python",
   "pygments_lexer": "ipython3",
   "version": "3.9.9"
  }
 },
 "nbformat": 4,
 "nbformat_minor": 5
}
